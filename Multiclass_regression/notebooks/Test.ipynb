{
 "cells": [
  {
   "cell_type": "code",
   "execution_count": 1,
   "id": "c563012e",
   "metadata": {},
   "outputs": [],
   "source": [
    "%load_ext autoreload\n",
    "%autoreload 2"
   ]
  },
  {
   "cell_type": "code",
   "execution_count": 3,
   "id": "684d8d9d",
   "metadata": {},
   "outputs": [],
   "source": [
    "import sys\n",
    "import numpy as np\n",
    "from sklearn.model_selection import train_test_split\n",
    "import matplotlib.pyplot as plt\n",
    "from tqdm.auto import tqdm\n",
    "\n",
    "sys.path.insert(0, '../src')\n",
    "from logistic_regression import LogisticRegression\n",
    "from plotters import plot_loss, plot_image\n",
    "\n",
    "np.random.seed(43)"
   ]
  },
  {
   "cell_type": "code",
   "execution_count": 29,
   "id": "29071567",
   "metadata": {
    "scrolled": false
   },
   "outputs": [
    {
     "data": {
      "text/plain": [
       "<matplotlib.lines.Line2D at 0x21acba97640>"
      ]
     },
     "execution_count": 29,
     "metadata": {},
     "output_type": "execute_result"
    },
    {
     "data": {
      "image/png": "[encoded data removed]",
      "text/plain": [
       "<Figure size 1152x576 with 1 Axes>"
      ]
     },
     "metadata": {
      "needs_background": "light"
     },
     "output_type": "display_data"
    }
   ],
   "source": [
    "size = 800\n",
    "noise_n = size//50\n",
    "\n",
    "x = np.random.uniform(low=-10, high=10, size=size)\n",
    "y_mask = (x > 3)\n",
    "\n",
    "noise_mask = np.logical_and(x > 2, x < 4)\n",
    "noise_indices = np.where(noise_mask)[0]\n",
    "choose = np.random.choice(noise_indices, size=noise_n)\n",
    "y_mask[choose] = ~y_mask[choose]\n",
    "\n",
    "\n",
    "y = y_mask.astype(np.int32)\n",
    "\n",
    "fig, axes = plt.subplots(figsize=(16,8))\n",
    "axes.plot(x[y_mask], y[y_mask], '.')\n",
    "axes.plot(x[~y_mask], y[~y_mask], '.')\n",
    "axes.axvline(3)"
   ]
  },
  {
   "cell_type": "code",
   "execution_count": 30,
   "id": "9a8cc3f5",
   "metadata": {},
   "outputs": [],
   "source": [
    "x_train, x_test, y_train, y_test = train_test_split(x, y)"
   ]
  },
  {
   "cell_type": "code",
   "execution_count": 153,
   "id": "affa2fe2",
   "metadata": {},
   "outputs": [],
   "source": [
    "def train_model(x, y, model, n_iters, batch_size):\n",
    "    \n",
    "    loss = []\n",
    "\n",
    "    for i in tqdm(range(n_iters)):\n",
    "        batch_idx = np.random.randint(0, x.shape[0], size=batch_size)\n",
    "\n",
    "        batch_x = x[batch_idx]\n",
    "        batch_y = y[batch_idx]\n",
    "\n",
    "        L = model.train(batch_x, batch_y)\n",
    "\n",
    "        loss.append(L)\n",
    "        if i == 2000:\n",
    "            model.lr /= 100\n",
    "    return loss"
   ]
  },
  {
   "cell_type": "code",
   "execution_count": 154,
   "id": "07eec348",
   "metadata": {},
   "outputs": [
    {
     "data": {
      "application/vnd.jupyter.widget-view+json": {
       "model_id": "d4ae70ed321a4cf3b7084968ac0b5509",
       "version_major": 2,
       "version_minor": 0
      },
      "text/plain": [
       "  0%|          | 0/6000 [00:00<?, ?it/s]"
      ]
     },
     "metadata": {},
     "output_type": "display_data"
    },
    {
     "data": {
      "application/vnd.jupyter.widget-view+json": {
       "model_id": "8ef82bc8eff249938c720f63b42c2268",
       "version_major": 2,
       "version_minor": 0
      },
      "text/plain": [
       "  0%|          | 0/6000 [00:00<?, ?it/s]"
      ]
     },
     "metadata": {},
     "output_type": "display_data"
    },
    {
     "data": {
      "application/vnd.jupyter.widget-view+json": {
       "model_id": "2019660e8cf24c05801d16e0f9f76fba",
       "version_major": 2,
       "version_minor": 0
      },
      "text/plain": [
       "  0%|          | 0/6000 [00:00<?, ?it/s]"
      ]
     },
     "metadata": {},
     "output_type": "display_data"
    },
    {
     "data": {
      "application/vnd.jupyter.widget-view+json": {
       "model_id": "0791411ee0cc4a8f94dc39783478c274",
       "version_major": 2,
       "version_minor": 0
      },
      "text/plain": [
       "  0%|          | 0/6000 [00:00<?, ?it/s]"
      ]
     },
     "metadata": {},
     "output_type": "display_data"
    },
    {
     "data": {
      "application/vnd.jupyter.widget-view+json": {
       "model_id": "2907fec91fa34111a2bee32ccff96623",
       "version_major": 2,
       "version_minor": 0
      },
      "text/plain": [
       "  0%|          | 0/6000 [00:00<?, ?it/s]"
      ]
     },
     "metadata": {},
     "output_type": "display_data"
    },
    {
     "data": {
      "application/vnd.jupyter.widget-view+json": {
       "model_id": "c31d6fde7bdc40e3948a40c62d858824",
       "version_major": 2,
       "version_minor": 0
      },
      "text/plain": [
       "  0%|          | 0/6000 [00:00<?, ?it/s]"
      ]
     },
     "metadata": {},
     "output_type": "display_data"
    },
    {
     "data": {
      "application/vnd.jupyter.widget-view+json": {
       "model_id": "883bb9e755b94e7aa65fddc42805c7b8",
       "version_major": 2,
       "version_minor": 0
      },
      "text/plain": [
       "  0%|          | 0/6000 [00:00<?, ?it/s]"
      ]
     },
     "metadata": {},
     "output_type": "display_data"
    },
    {
     "data": {
      "application/vnd.jupyter.widget-view+json": {
       "model_id": "3b1ac39b46444122a5210fe3a5f4eaed",
       "version_major": 2,
       "version_minor": 0
      },
      "text/plain": [
       "  0%|          | 0/6000 [00:00<?, ?it/s]"
      ]
     },
     "metadata": {},
     "output_type": "display_data"
    },
    {
     "data": {
      "application/vnd.jupyter.widget-view+json": {
       "model_id": "058dc61c475043fc95540f5e26f25e8c",
       "version_major": 2,
       "version_minor": 0
      },
      "text/plain": [
       "  0%|          | 0/6000 [00:00<?, ?it/s]"
      ]
     },
     "metadata": {},
     "output_type": "display_data"
    },
    {
     "data": {
      "application/vnd.jupyter.widget-view+json": {
       "model_id": "1914bccd7bcf4e88a8d7ad4bf3c5317f",
       "version_major": 2,
       "version_minor": 0
      },
      "text/plain": [
       "  0%|          | 0/6000 [00:00<?, ?it/s]"
      ]
     },
     "metadata": {},
     "output_type": "display_data"
    },
    {
     "data": {
      "text/plain": [
       "0.042"
      ]
     },
     "execution_count": 154,
     "metadata": {},
     "output_type": "execute_result"
    }
   ],
   "source": [
    "metrics = []\n",
    "for _ in range(10):\n",
    "    model = LogisticRegression(1, lr=1e-2)\n",
    "    loss = train_model(x_train.reshape(-1, 1), y_train, model, 6000, 32)\n",
    "#     plot_loss(np.array(loss), figsize=(16,8), final_mean=None)\n",
    "    metrics.append(model.evaluate(x_test.reshape(-1, 1), y_test))\n",
    "np.mean(metrics).round(3)"
   ]
  },
  {
   "cell_type": "code",
   "execution_count": null,
   "id": "b808e1b1",
   "metadata": {
    "scrolled": false
   },
   "outputs": [],
   "source": []
  },
  {
   "cell_type": "code",
   "execution_count": 104,
   "id": "480011c4",
   "metadata": {},
   "outputs": [
    {
     "data": {
      "image/png": "[encoded data removed]",
      "text/plain": [
       "<Figure size 1152x576 with 1 Axes>"
      ]
     },
     "metadata": {
      "needs_background": "light"
     },
     "output_type": "display_data"
    }
   ],
   "source": [
    "y_test_mask = y_test.astype(bool)\n",
    "\n",
    "fig, axes = plt.subplots(figsize=(16,8))\n",
    "axes.plot(x_test[y_test_mask], y_test[y_test_mask], '.')\n",
    "axes.plot(x_test[~y_test_mask], y_test[~y_test_mask], '.')\n",
    "\n",
    "y_predict = model.forward(x_test.reshape((-1,1))).squeeze()\n",
    "axes.plot(x_test[y_test_mask], y_predict[y_test_mask], '.', alpha=0.5, marker='d')\n",
    "axes.plot(x_test[~y_test_mask], y_predict[~y_test_mask], '.', alpha=0.5, marker='d')\n",
    "\n",
    "\n",
    "axes.grid(which='both')\n",
    "# axes.axvline(3)\n",
    "# axes.axhline(0.5)"
   ]
  },
  {
   "cell_type": "code",
   "execution_count": 107,
   "id": "63ee506c",
   "metadata": {},
   "outputs": [
    {
     "data": {
      "text/plain": [
       "0.07644376568913704"
      ]
     },
     "execution_count": 107,
     "metadata": {},
     "output_type": "execute_result"
    }
   ],
   "source": []
  },
  {
   "cell_type": "code",
   "execution_count": null,
   "id": "5347f74d",
   "metadata": {},
   "outputs": [],
   "source": []
  },
  {
   "cell_type": "code",
   "execution_count": null,
   "id": "02dc88db",
   "metadata": {},
   "outputs": [],
   "source": []
  },
  {
   "cell_type": "code",
   "execution_count": null,
   "id": "2abfc47b",
   "metadata": {},
   "outputs": [],
   "source": []
  },
  {
   "cell_type": "code",
   "execution_count": null,
   "id": "3b9873d5",
   "metadata": {},
   "outputs": [],
   "source": []
  }
 ],
 "metadata": {
  "kernelspec": {
   "display_name": "Python 3",
   "language": "python",
   "name": "python3"
  },
  "language_info": {
   "codemirror_mode": {
    "name": "ipython",
    "version": 3
   },
   "file_extension": ".py",
   "mimetype": "text/x-python",
   "name": "python",
   "nbconvert_exporter": "python",
   "pygments_lexer": "ipython3",
   "version": "3.8.8"
  }
 },
 "nbformat": 4,
 "nbformat_minor": 5
}
